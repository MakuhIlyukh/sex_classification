{
 "cells": [
  {
   "cell_type": "code",
   "execution_count": 1,
   "metadata": {},
   "outputs": [],
   "source": [
    "import numpy as np\n",
    "import pandas as pd\n",
    "import matplotlib.pyplot as plt\n",
    "import librosa\n",
    "import tensorflow as tf\n",
    "import tensorflow.keras as keras\n",
    "from tqdm import tqdm\n",
    "#import webrtcvad\n",
    "import librosa.display\n",
    "import os\n",
    "%matplotlib inline\n",
    "\n",
    "TRAIN_TARGETS_PATH = 'data/train/targets.tsv'\n",
    "TRAIN_PATH = 'data/train/'\n",
    "TEST_PATH = 'data/test/'\n",
    "\n",
    "SR = 16000\n",
    "BYTES_MULTIPLICATOR = 32767\n",
    "\n",
    "\n",
    "def input_gate():\n",
    "    input_str = input('Введите да, если хотите выполнить ячейку: ')\n",
    "    if input_str.lower() != 'да':\n",
    "        raise Exception('Операция отклонена')"
   ]
  },
  {
   "cell_type": "markdown",
   "metadata": {},
   "source": [
    "# Загрузка имен файлов и меток"
   ]
  },
  {
   "cell_type": "code",
   "execution_count": 2,
   "metadata": {},
   "outputs": [
    {
     "data": {
      "text/html": [
       "<div>\n",
       "<style scoped>\n",
       "    .dataframe tbody tr th:only-of-type {\n",
       "        vertical-align: middle;\n",
       "    }\n",
       "\n",
       "    .dataframe tbody tr th {\n",
       "        vertical-align: top;\n",
       "    }\n",
       "\n",
       "    .dataframe thead th {\n",
       "        text-align: right;\n",
       "    }\n",
       "</style>\n",
       "<table border=\"1\" class=\"dataframe\">\n",
       "  <thead>\n",
       "    <tr style=\"text-align: right;\">\n",
       "      <th></th>\n",
       "      <th>name</th>\n",
       "      <th>target</th>\n",
       "    </tr>\n",
       "  </thead>\n",
       "  <tbody>\n",
       "    <tr>\n",
       "      <th>0</th>\n",
       "      <td>5d1f7e43366513a1d0a6ec5640c3dc24</td>\n",
       "      <td>1</td>\n",
       "    </tr>\n",
       "    <tr>\n",
       "      <th>1</th>\n",
       "      <td>9a701a4536a05b6610a590a9fe702ed8</td>\n",
       "      <td>1</td>\n",
       "    </tr>\n",
       "    <tr>\n",
       "      <th>2</th>\n",
       "      <td>cad0b8547008d1524c1a0e5fd51f9908</td>\n",
       "      <td>1</td>\n",
       "    </tr>\n",
       "    <tr>\n",
       "      <th>3</th>\n",
       "      <td>4bbe607e7dc95460e2cc1a6ee5f4dfa6</td>\n",
       "      <td>0</td>\n",
       "    </tr>\n",
       "    <tr>\n",
       "      <th>4</th>\n",
       "      <td>30fb32cba90b34af26f3f14f5d636805</td>\n",
       "      <td>0</td>\n",
       "    </tr>\n",
       "  </tbody>\n",
       "</table>\n",
       "</div>"
      ],
      "text/plain": [
       "                               name  target\n",
       "0  5d1f7e43366513a1d0a6ec5640c3dc24       1\n",
       "1  9a701a4536a05b6610a590a9fe702ed8       1\n",
       "2  cad0b8547008d1524c1a0e5fd51f9908       1\n",
       "3  4bbe607e7dc95460e2cc1a6ee5f4dfa6       0\n",
       "4  30fb32cba90b34af26f3f14f5d636805       0"
      ]
     },
     "execution_count": 2,
     "metadata": {},
     "output_type": "execute_result"
    }
   ],
   "source": [
    "a_df = pd.read_csv(TRAIN_TARGETS_PATH, sep='\\t', names=['name', 'target'])\n",
    "a_df.head()"
   ]
  },
  {
   "cell_type": "markdown",
   "metadata": {},
   "source": [
    "#### Доли классов"
   ]
  },
  {
   "cell_type": "code",
   "execution_count": 3,
   "metadata": {},
   "outputs": [
    {
     "data": {
      "text/plain": [
       "0    0.546785\n",
       "1    0.453215\n",
       "Name: target, dtype: float64"
      ]
     },
     "execution_count": 3,
     "metadata": {},
     "output_type": "execute_result"
    }
   ],
   "source": [
    "a_df.target.value_counts() / len(a_df)"
   ]
  },
  {
   "cell_type": "markdown",
   "metadata": {},
   "source": [
    "# Препроцессинг файлов"
   ]
  },
  {
   "cell_type": "code",
   "execution_count": 4,
   "metadata": {},
   "outputs": [],
   "source": [
    "def load_file(path):\n",
    "    return librosa.load(path, sr=SR)[0]\n",
    "\n",
    "\n",
    "def ms_to_n(n_ms):\n",
    "    return n_ms * SR // 10**3\n",
    "\n",
    "\n",
    "def split_into_windows(wave, n_ms, step='full'):\n",
    "    if n_ms != 10 and n_ms != 20 and n_ms != 30:\n",
    "        raise ValueError('n_ms может быть равным только 10, 30 или 40')\n",
    "    frame_size = ms_to_n(n_ms)\n",
    "    if step == 'full':\n",
    "        step = frame_size\n",
    "    return np.vstack(wave[i : i + frame_size] for i in range(0, wave.shape[0] - frame_size + 1, step))\n",
    "    \n",
    "\n",
    "def mask_windows(windows, mode):\n",
    "    '''\n",
    "    Если изменится sample rate, замени np.int16\n",
    "    на соответствующий вариант!\n",
    "    '''\n",
    "    vad = webrtcvad.Vad(mode)\n",
    "    mask = np.empty(windows.shape[0], dtype='bool')\n",
    "    for i in range(mask.shape[0]):\n",
    "        mask[i] = vad.is_speech(\n",
    "            (windows[i] * BYTES_MULTIPLICATOR).astype(np.int16).tobytes(), SR\n",
    "        )\n",
    "    return mask\n",
    "\n",
    "\n",
    "def filtered_plot(windows, windows_mask):\n",
    "    frame_size = windows.shape[1]\n",
    "    for i in range(len(windows)):\n",
    "        plt.plot(np.arange(i * frame_size, (i + 1) * frame_size),\n",
    "                 windows[i], c=('red' if mask[i] else 'blue'))\n",
    "\n",
    "        \n",
    "def basic_preprocess(filenames, tracks_path, windows_path,\n",
    "                     masks_path, filtered_windows_path,\n",
    "                     n_ms=30, step='full', mode=3):    \n",
    "    for filename in tqdm(filenames):\n",
    "        wave = load_file(tracks_path + filename + '.wav')\n",
    "        windows = split_into_windows(wave, n_ms)\n",
    "        mask = mask_windows(windows, mode)\n",
    "        filtered_windows = windows[mask]\n",
    "        \n",
    "        np.save(masks_path + 'mask_' + filename + '.npy', mask)\n",
    "        np.save(windows_path + 'win_' + filename + '.npy', windows)\n",
    "        np.save(filtered_windows_path + 'filt_win_' + filename + '.npy', filtered_windows)"
   ]
  },
  {
   "cell_type": "markdown",
   "metadata": {},
   "source": [
    "## Избавление от тишины, сохранение полученных результатов в файлы"
   ]
  },
  {
   "cell_type": "code",
   "execution_count": 5,
   "metadata": {},
   "outputs": [
    {
     "name": "stdin",
     "output_type": "stream",
     "text": [
      "Введите да, если хотите выполнить ячейку:  gsfgsdgdsfgs\n"
     ]
    },
    {
     "ename": "Exception",
     "evalue": "Операция отклонена",
     "output_type": "error",
     "traceback": [
      "\u001b[1;31m---------------------------------------------------------------------------\u001b[0m",
      "\u001b[1;31mException\u001b[0m                                 Traceback (most recent call last)",
      "\u001b[1;32m<ipython-input-5-fb0e7d8e13aa>\u001b[0m in \u001b[0;36m<module>\u001b[1;34m\u001b[0m\n\u001b[0;32m      5\u001b[0m \u001b[0mn_ms\u001b[0m \u001b[1;33m=\u001b[0m \u001b[1;36m30\u001b[0m\u001b[1;33m\u001b[0m\u001b[1;33m\u001b[0m\u001b[0m\n\u001b[0;32m      6\u001b[0m \u001b[1;33m\u001b[0m\u001b[0m\n\u001b[1;32m----> 7\u001b[1;33m \u001b[0minput_gate\u001b[0m\u001b[1;33m(\u001b[0m\u001b[1;33m)\u001b[0m\u001b[1;33m\u001b[0m\u001b[1;33m\u001b[0m\u001b[0m\n\u001b[0m\u001b[0;32m      8\u001b[0m \u001b[1;33m\u001b[0m\u001b[0m\n\u001b[0;32m      9\u001b[0m basic_preprocess(a_df.name.values,\n",
      "\u001b[1;32m<ipython-input-1-0def580ca4cd>\u001b[0m in \u001b[0;36minput_gate\u001b[1;34m()\u001b[0m\n\u001b[0;32m     22\u001b[0m     \u001b[0minput_str\u001b[0m \u001b[1;33m=\u001b[0m \u001b[0minput\u001b[0m\u001b[1;33m(\u001b[0m\u001b[1;34m'Введите да, если хотите выполнить ячейку: '\u001b[0m\u001b[1;33m)\u001b[0m\u001b[1;33m\u001b[0m\u001b[1;33m\u001b[0m\u001b[0m\n\u001b[0;32m     23\u001b[0m     \u001b[1;32mif\u001b[0m \u001b[0minput_str\u001b[0m\u001b[1;33m.\u001b[0m\u001b[0mlower\u001b[0m\u001b[1;33m(\u001b[0m\u001b[1;33m)\u001b[0m \u001b[1;33m!=\u001b[0m \u001b[1;34m'да'\u001b[0m\u001b[1;33m:\u001b[0m\u001b[1;33m\u001b[0m\u001b[1;33m\u001b[0m\u001b[0m\n\u001b[1;32m---> 24\u001b[1;33m         \u001b[1;32mraise\u001b[0m \u001b[0mException\u001b[0m\u001b[1;33m(\u001b[0m\u001b[1;34m'Операция отклонена'\u001b[0m\u001b[1;33m)\u001b[0m\u001b[1;33m\u001b[0m\u001b[1;33m\u001b[0m\u001b[0m\n\u001b[0m",
      "\u001b[1;31mException\u001b[0m: Операция отклонена"
     ]
    }
   ],
   "source": [
    "TRAIN_PREPROCESSED_PATH = 'data/train_preproc/'\n",
    "TRAIN_MASK_PATH = 'data/train_preproc/masks/'\n",
    "TRAIN_WINDOWS_PATH = 'data/train_preproc/windows/'\n",
    "TRAIN_FILTERED_WINDOWS_PATH = 'data/train_preproc/filtered_windows/'\n",
    "n_ms = 30\n",
    "\n",
    "input_gate()\n",
    "    \n",
    "basic_preprocess(a_df.name.values,\n",
    "                 TRAIN_PATH,\n",
    "                 TRAIN_WINDOWS_PATH,\n",
    "                 TRAIN_MASK_PATH,\n",
    "                 TRAIN_FILTERED_WINDOWS_PATH,\n",
    "                 n_ms=n_ms)"
   ]
  },
  {
   "cell_type": "code",
   "execution_count": 6,
   "metadata": {},
   "outputs": [
    {
     "data": {
      "text/plain": [
       "['00100026dbdffcd01cde6ee9b9a9d273',\n",
       " '0014278276a6cc05fe8c522af0a677df',\n",
       " '0026e20266ceba9cdda2c116e89d2f3b',\n",
       " '008b37fc832d3dfad9105961c5801c02',\n",
       " '00b1d7d0d6fdb25050041f6e2ae2871e',\n",
       " '00b23e5cbc6f652b55d0754ed5ce300f',\n",
       " '00d314de185e2e2425590e18e88c969f',\n",
       " '00d9d606720bf95d08546c4bcb19ba71',\n",
       " '00f3de3001b7f177384897278f905f83',\n",
       " '0113ca85c57aeafd828acc1e765c058b']"
      ]
     },
     "execution_count": 6,
     "metadata": {},
     "output_type": "execute_result"
    }
   ],
   "source": [
    "test_names = list(map(lambda s: s[:-4], os.listdir('data/test')))\n",
    "test_names[:10]"
   ]
  },
  {
   "cell_type": "code",
   "execution_count": 7,
   "metadata": {},
   "outputs": [
    {
     "name": "stdin",
     "output_type": "stream",
     "text": [
      "Введите да, если хотите выполнить ячейку:  fdgsgdgsdgsdfg\n"
     ]
    },
    {
     "ename": "Exception",
     "evalue": "Операция отклонена",
     "output_type": "error",
     "traceback": [
      "\u001b[1;31m---------------------------------------------------------------------------\u001b[0m",
      "\u001b[1;31mException\u001b[0m                                 Traceback (most recent call last)",
      "\u001b[1;32m<ipython-input-7-881717dedf5a>\u001b[0m in \u001b[0;36m<module>\u001b[1;34m\u001b[0m\n\u001b[0;32m      5\u001b[0m \u001b[0mn_ms\u001b[0m \u001b[1;33m=\u001b[0m \u001b[1;36m30\u001b[0m\u001b[1;33m\u001b[0m\u001b[1;33m\u001b[0m\u001b[0m\n\u001b[0;32m      6\u001b[0m \u001b[1;33m\u001b[0m\u001b[0m\n\u001b[1;32m----> 7\u001b[1;33m \u001b[0minput_gate\u001b[0m\u001b[1;33m(\u001b[0m\u001b[1;33m)\u001b[0m\u001b[1;33m\u001b[0m\u001b[1;33m\u001b[0m\u001b[0m\n\u001b[0m\u001b[0;32m      8\u001b[0m \u001b[1;33m\u001b[0m\u001b[0m\n\u001b[0;32m      9\u001b[0m basic_preprocess(test_names,\n",
      "\u001b[1;32m<ipython-input-1-0def580ca4cd>\u001b[0m in \u001b[0;36minput_gate\u001b[1;34m()\u001b[0m\n\u001b[0;32m     22\u001b[0m     \u001b[0minput_str\u001b[0m \u001b[1;33m=\u001b[0m \u001b[0minput\u001b[0m\u001b[1;33m(\u001b[0m\u001b[1;34m'Введите да, если хотите выполнить ячейку: '\u001b[0m\u001b[1;33m)\u001b[0m\u001b[1;33m\u001b[0m\u001b[1;33m\u001b[0m\u001b[0m\n\u001b[0;32m     23\u001b[0m     \u001b[1;32mif\u001b[0m \u001b[0minput_str\u001b[0m\u001b[1;33m.\u001b[0m\u001b[0mlower\u001b[0m\u001b[1;33m(\u001b[0m\u001b[1;33m)\u001b[0m \u001b[1;33m!=\u001b[0m \u001b[1;34m'да'\u001b[0m\u001b[1;33m:\u001b[0m\u001b[1;33m\u001b[0m\u001b[1;33m\u001b[0m\u001b[0m\n\u001b[1;32m---> 24\u001b[1;33m         \u001b[1;32mraise\u001b[0m \u001b[0mException\u001b[0m\u001b[1;33m(\u001b[0m\u001b[1;34m'Операция отклонена'\u001b[0m\u001b[1;33m)\u001b[0m\u001b[1;33m\u001b[0m\u001b[1;33m\u001b[0m\u001b[0m\n\u001b[0m",
      "\u001b[1;31mException\u001b[0m: Операция отклонена"
     ]
    }
   ],
   "source": [
    "TEST_PREPROCESSED_PATH = 'data/test_preproc/'\n",
    "TEST_MASK_PATH = 'data/test_preproc/masks/'\n",
    "TEST_WINDOWS_PATH = 'data/test_preproc/windows/'\n",
    "TEST_FILTERED_WINDOWS_PATH = 'data/test_preproc/filtered_windows/'\n",
    "n_ms = 30\n",
    "\n",
    "input_gate()\n",
    "    \n",
    "basic_preprocess(test_names,\n",
    "                 TEST_PATH,\n",
    "                 TEST_WINDOWS_PATH,\n",
    "                 TEST_MASK_PATH,\n",
    "                 TEST_FILTERED_WINDOWS_PATH,\n",
    "                 n_ms=n_ms)"
   ]
  },
  {
   "cell_type": "code",
   "execution_count": 8,
   "metadata": {},
   "outputs": [],
   "source": [
    "i = -1"
   ]
  },
  {
   "cell_type": "code",
   "execution_count": null,
   "metadata": {},
   "outputs": [],
   "source": [
    "i += 1\n",
    "name = test_names[i]\n",
    "windows = np.load(TEST_WINDOWS_PATH + 'win_' + name + '.npy')\n",
    "mask = np.load(TEST_MASK_PATH + 'mask_' + name + '.npy')\n",
    "filtered_plot(windows, mask)"
   ]
  },
  {
   "cell_type": "code",
   "execution_count": 23,
   "metadata": {},
   "outputs": [
    {
     "data": {
      "text/plain": [
       "[<matplotlib.lines.Line2D at 0x1737a6c06a0>]"
      ]
     },
     "execution_count": 23,
     "metadata": {},
     "output_type": "execute_result"
    },
    {
     "data": {
      "image/png": "[encoded data removed]",
      "text/plain": [
       "<Figure size 432x288 with 1 Axes>"
      ]
     },
     "metadata": {
      "needs_background": "light"
     },
     "output_type": "display_data"
    }
   ],
   "source": [
    "name = test_names[0]\n",
    "fil_ex = np.load(TEST_FILTERED_WINDOWS_PATH + 'filt_win_' + name + '.npy')\n",
    "plt.plot(fil_ex.ravel())"
   ]
  },
  {
   "cell_type": "code",
   "execution_count": 24,
   "metadata": {},
   "outputs": [
    {
     "data": {
      "text/plain": [
       "[<matplotlib.lines.Line2D at 0x1737a78fa30>]"
      ]
     },
     "execution_count": 24,
     "metadata": {},
     "output_type": "execute_result"
    },
    {
     "data": {
      "image/png": "[encoded data removed]",
      "text/plain": [
       "<Figure size 432x288 with 1 Axes>"
      ]
     },
     "metadata": {
      "needs_background": "light"
     },
     "output_type": "display_data"
    }
   ],
   "source": [
    "ex = load_file(TEST_PATH + name + '.wav')\n",
    "plt.plot(ex, c='red')"
   ]
  },
  {
   "cell_type": "markdown",
   "metadata": {},
   "source": [
    "## Спектрограмма"
   ]
  },
  {
   "cell_type": "code",
   "execution_count": 8,
   "metadata": {},
   "outputs": [],
   "source": [
    "def spectrogram(wave, window_size, step, n_mels):\n",
    "    S = librosa.feature.melspectrogram(wave, sr=SR, n_fft=window_size,\n",
    "                                       hop_length=step, n_mels=n_mels)\n",
    "    return librosa.power_to_db(S, ref=np.max)\n",
    "\n",
    "\n",
    "def spec_plot(spec, step):\n",
    "    librosa.display.specshow(spec, sr=SR, hop_length=step, x_axis='time', y_axis='mel')\n",
    "\n",
    "\n",
    "def spectrogram_preprocess(filenames, waves_path, spec_path, window_size, step, n_mels, prefix=''):\n",
    "    for filename in tqdm(filenames):\n",
    "        try:\n",
    "            wave = np.load(waves_path + prefix + filename + '.npy')\n",
    "            spec = spectrogram(wave.ravel(), window_size, step, n_mels)\n",
    "            np.save(spec_path + 'spec_' + filename + '.npy', spec)\n",
    "        except:\n",
    "            print(filename)\n",
    "            np.save(spec_path + 'spec_' + filename + '.npy', np.zeros((32, 128)))"
   ]
  },
  {
   "cell_type": "code",
   "execution_count": 9,
   "metadata": {},
   "outputs": [
    {
     "name": "stdin",
     "output_type": "stream",
     "text": [
      "Введите да, если хотите выполнить ячейку:  fdsgsdfgsdfg\n"
     ]
    },
    {
     "ename": "Exception",
     "evalue": "Операция отклонена",
     "output_type": "error",
     "traceback": [
      "\u001b[1;31m---------------------------------------------------------------------------\u001b[0m",
      "\u001b[1;31mException\u001b[0m                                 Traceback (most recent call last)",
      "\u001b[1;32m<ipython-input-9-421504d47d4c>\u001b[0m in \u001b[0;36m<module>\u001b[1;34m\u001b[0m\n\u001b[0;32m     12\u001b[0m \u001b[1;31m#w_size = 2048\u001b[0m\u001b[1;33m\u001b[0m\u001b[1;33m\u001b[0m\u001b[1;33m\u001b[0m\u001b[0m\n\u001b[0;32m     13\u001b[0m \u001b[1;33m\u001b[0m\u001b[0m\n\u001b[1;32m---> 14\u001b[1;33m \u001b[0minput_gate\u001b[0m\u001b[1;33m(\u001b[0m\u001b[1;33m)\u001b[0m\u001b[1;33m\u001b[0m\u001b[1;33m\u001b[0m\u001b[0m\n\u001b[0m\u001b[0;32m     15\u001b[0m \u001b[1;33m\u001b[0m\u001b[0m\n\u001b[0;32m     16\u001b[0m \u001b[0mfilenames_for_sp\u001b[0m \u001b[1;33m=\u001b[0m \u001b[0ma_df\u001b[0m\u001b[1;33m.\u001b[0m\u001b[0mname\u001b[0m\u001b[1;33m.\u001b[0m\u001b[0mvalues\u001b[0m\u001b[1;33m\u001b[0m\u001b[1;33m\u001b[0m\u001b[0m\n",
      "\u001b[1;32m<ipython-input-1-0def580ca4cd>\u001b[0m in \u001b[0;36minput_gate\u001b[1;34m()\u001b[0m\n\u001b[0;32m     22\u001b[0m     \u001b[0minput_str\u001b[0m \u001b[1;33m=\u001b[0m \u001b[0minput\u001b[0m\u001b[1;33m(\u001b[0m\u001b[1;34m'Введите да, если хотите выполнить ячейку: '\u001b[0m\u001b[1;33m)\u001b[0m\u001b[1;33m\u001b[0m\u001b[1;33m\u001b[0m\u001b[0m\n\u001b[0;32m     23\u001b[0m     \u001b[1;32mif\u001b[0m \u001b[0minput_str\u001b[0m\u001b[1;33m.\u001b[0m\u001b[0mlower\u001b[0m\u001b[1;33m(\u001b[0m\u001b[1;33m)\u001b[0m \u001b[1;33m!=\u001b[0m \u001b[1;34m'да'\u001b[0m\u001b[1;33m:\u001b[0m\u001b[1;33m\u001b[0m\u001b[1;33m\u001b[0m\u001b[0m\n\u001b[1;32m---> 24\u001b[1;33m         \u001b[1;32mraise\u001b[0m \u001b[0mException\u001b[0m\u001b[1;33m(\u001b[0m\u001b[1;34m'Операция отклонена'\u001b[0m\u001b[1;33m)\u001b[0m\u001b[1;33m\u001b[0m\u001b[1;33m\u001b[0m\u001b[0m\n\u001b[0m",
      "\u001b[1;31mException\u001b[0m: Операция отклонена"
     ]
    }
   ],
   "source": [
    "TRAIN_SPEC_PATH = 'data/train_preproc/specs/'\n",
    "\n",
    "\n",
    "# n_ms = ?\n",
    "\n",
    "n_mels = 128\n",
    "step = 128\n",
    "w_size = 512\n",
    "\n",
    "#n_mels = 128\n",
    "#step = 128\n",
    "#w_size = 2048\n",
    "\n",
    "input_gate()\n",
    "\n",
    "filenames_for_sp = a_df.name.values\n",
    "spectrogram_preprocess(filenames_for_sp,\n",
    "                       TRAIN_FILTERED_WINDOWS_PATH,\n",
    "                       TRAIN_SPEC_PATH,\n",
    "                       w_size, step, n_mels,\n",
    "                       'filt_win_')"
   ]
  },
  {
   "cell_type": "code",
   "execution_count": 10,
   "metadata": {},
   "outputs": [
    {
     "name": "stdin",
     "output_type": "stream",
     "text": [
      "Введите да, если хотите выполнить ячейку:  fgdhfghfdghdfg\n"
     ]
    },
    {
     "ename": "Exception",
     "evalue": "Операция отклонена",
     "output_type": "error",
     "traceback": [
      "\u001b[1;31m---------------------------------------------------------------------------\u001b[0m",
      "\u001b[1;31mException\u001b[0m                                 Traceback (most recent call last)",
      "\u001b[1;32m<ipython-input-10-4c0ad3a4d864>\u001b[0m in \u001b[0;36m<module>\u001b[1;34m\u001b[0m\n\u001b[0;32m     12\u001b[0m \u001b[1;31m#w_size = 2048\u001b[0m\u001b[1;33m\u001b[0m\u001b[1;33m\u001b[0m\u001b[1;33m\u001b[0m\u001b[0m\n\u001b[0;32m     13\u001b[0m \u001b[1;33m\u001b[0m\u001b[0m\n\u001b[1;32m---> 14\u001b[1;33m \u001b[0minput_gate\u001b[0m\u001b[1;33m(\u001b[0m\u001b[1;33m)\u001b[0m\u001b[1;33m\u001b[0m\u001b[1;33m\u001b[0m\u001b[0m\n\u001b[0m\u001b[0;32m     15\u001b[0m \u001b[1;33m\u001b[0m\u001b[0m\n\u001b[0;32m     16\u001b[0m spectrogram_preprocess(test_names,\n",
      "\u001b[1;32m<ipython-input-1-0def580ca4cd>\u001b[0m in \u001b[0;36minput_gate\u001b[1;34m()\u001b[0m\n\u001b[0;32m     22\u001b[0m     \u001b[0minput_str\u001b[0m \u001b[1;33m=\u001b[0m \u001b[0minput\u001b[0m\u001b[1;33m(\u001b[0m\u001b[1;34m'Введите да, если хотите выполнить ячейку: '\u001b[0m\u001b[1;33m)\u001b[0m\u001b[1;33m\u001b[0m\u001b[1;33m\u001b[0m\u001b[0m\n\u001b[0;32m     23\u001b[0m     \u001b[1;32mif\u001b[0m \u001b[0minput_str\u001b[0m\u001b[1;33m.\u001b[0m\u001b[0mlower\u001b[0m\u001b[1;33m(\u001b[0m\u001b[1;33m)\u001b[0m \u001b[1;33m!=\u001b[0m \u001b[1;34m'да'\u001b[0m\u001b[1;33m:\u001b[0m\u001b[1;33m\u001b[0m\u001b[1;33m\u001b[0m\u001b[0m\n\u001b[1;32m---> 24\u001b[1;33m         \u001b[1;32mraise\u001b[0m \u001b[0mException\u001b[0m\u001b[1;33m(\u001b[0m\u001b[1;34m'Операция отклонена'\u001b[0m\u001b[1;33m)\u001b[0m\u001b[1;33m\u001b[0m\u001b[1;33m\u001b[0m\u001b[0m\n\u001b[0m",
      "\u001b[1;31mException\u001b[0m: Операция отклонена"
     ]
    }
   ],
   "source": [
    "TEST_SPEC_PATH = 'data/test_preproc/specs/'\n",
    "\n",
    "\n",
    "# n_ms = ?\n",
    "\n",
    "n_mels = 128\n",
    "step = 128\n",
    "w_size = 512\n",
    "\n",
    "#n_mels = 128\n",
    "#step = 128\n",
    "#w_size = 2048\n",
    "\n",
    "input_gate()\n",
    "\n",
    "spectrogram_preprocess(test_names,\n",
    "                       TEST_FILTERED_WINDOWS_PATH,\n",
    "                       TEST_SPEC_PATH,\n",
    "                       w_size, step, n_mels,\n",
    "                       'filt_win_')"
   ]
  },
  {
   "cell_type": "code",
   "execution_count": null,
   "metadata": {},
   "outputs": [],
   "source": [
    "# ecc0ab9d624ce88913aed66747aa421d - косяк"
   ]
  },
  {
   "cell_type": "code",
   "execution_count": 24,
   "metadata": {},
   "outputs": [
    {
     "data": {
      "text/plain": [
       "(11520,)"
      ]
     },
     "execution_count": 24,
     "metadata": {},
     "output_type": "execute_result"
    }
   ],
   "source": [
    "np.load(TEST_FILTERED_WINDOWS_PATH + 'filt_win_' + test_names[961] + '.npy').ravel().shape"
   ]
  },
  {
   "cell_type": "markdown",
   "metadata": {},
   "source": [
    "# Загрузка очищенных данных"
   ]
  },
  {
   "cell_type": "code",
   "execution_count": 11,
   "metadata": {},
   "outputs": [],
   "source": [
    "def load_all_specs(spec_path, filenames):\n",
    "    res = list()\n",
    "    for fname in tqdm(filenames):\n",
    "        spec = np.load(spec_path + 'spec_' + fname + '.npy')\n",
    "        res.append(spec)\n",
    "    return res\n",
    "\n",
    "\n",
    "def transpose_all(seqs):\n",
    "    return [elem.T for elem in seqs]"
   ]
  },
  {
   "cell_type": "code",
   "execution_count": 12,
   "metadata": {},
   "outputs": [
    {
     "data": {
      "text/plain": [
       "128"
      ]
     },
     "execution_count": 12,
     "metadata": {},
     "output_type": "execute_result"
    }
   ],
   "source": [
    "n_feat = 128\n",
    "n_feat"
   ]
  },
  {
   "cell_type": "code",
   "execution_count": 13,
   "metadata": {},
   "outputs": [
    {
     "name": "stderr",
     "output_type": "stream",
     "text": [
      "100%|███████████████████████████████████████████████████████████████████████████| 13936/13936 [01:42<00:00, 136.42it/s]\n"
     ]
    }
   ],
   "source": [
    "X_train = transpose_all(load_all_specs(TRAIN_SPEC_PATH, a_df.name.values))"
   ]
  },
  {
   "cell_type": "markdown",
   "metadata": {},
   "source": [
    "#### split train"
   ]
  },
  {
   "cell_type": "code",
   "execution_count": 14,
   "metadata": {},
   "outputs": [],
   "source": [
    "FIRST_PART_SIZE = 10000"
   ]
  },
  {
   "cell_type": "code",
   "execution_count": 15,
   "metadata": {},
   "outputs": [],
   "source": [
    "X_train_1 = X_train[:FIRST_PART_SIZE]\n",
    "X_train_2 = X_train[FIRST_PART_SIZE:]"
   ]
  },
  {
   "cell_type": "markdown",
   "metadata": {},
   "source": [
    "#### Распределение длительностей спектрограмм"
   ]
  },
  {
   "cell_type": "code",
   "execution_count": 16,
   "metadata": {},
   "outputs": [
    {
     "data": {
      "image/png": "[encoded data removed]",
      "text/plain": [
       "<Figure size 432x288 with 1 Axes>"
      ]
     },
     "metadata": {
      "needs_background": "light"
     },
     "output_type": "display_data"
    }
   ],
   "source": [
    "%matplotlib inline\n",
    "plt.hist([elem.shape[0] for elem in X_train], bins=70);"
   ]
  },
  {
   "cell_type": "markdown",
   "metadata": {},
   "source": [
    "#### example"
   ]
  },
  {
   "cell_type": "code",
   "execution_count": 17,
   "metadata": {},
   "outputs": [
    {
     "data": {
      "text/plain": [
       "'f47834a8b6f7d08e7001a5b98f1e3867'"
      ]
     },
     "execution_count": 17,
     "metadata": {},
     "output_type": "execute_result"
    }
   ],
   "source": [
    "a_df.name.values[3569]"
   ]
  },
  {
   "cell_type": "code",
   "execution_count": 18,
   "metadata": {},
   "outputs": [
    {
     "data": {
      "image/png": "[encoded data removed]",
      "text/plain": [
       "<Figure size 432x288 with 1 Axes>"
      ]
     },
     "metadata": {
      "needs_background": "light"
     },
     "output_type": "display_data"
    }
   ],
   "source": [
    "spec_plot(X_train[3569][:32,:], step=128)"
   ]
  },
  {
   "cell_type": "code",
   "execution_count": null,
   "metadata": {},
   "outputs": [],
   "source": []
  },
  {
   "cell_type": "markdown",
   "metadata": {},
   "source": [
    "# LSTM"
   ]
  },
  {
   "cell_type": "markdown",
   "metadata": {},
   "source": [
    "#### split padded"
   ]
  },
  {
   "cell_type": "code",
   "execution_count": 16,
   "metadata": {},
   "outputs": [],
   "source": [
    "X_train_padded = keras.preprocessing.sequence.pad_sequences(X_train, padding='post', value=1)"
   ]
  },
  {
   "cell_type": "code",
   "execution_count": 17,
   "metadata": {},
   "outputs": [],
   "source": [
    "X_train_padded_1 = X_train_padded[:FIRST_PART_SIZE]\n",
    "X_train_padded_2 = X_train_padded[FIRST_PART_SIZE:]"
   ]
  },
  {
   "cell_type": "code",
   "execution_count": 18,
   "metadata": {},
   "outputs": [],
   "source": [
    "model = keras.Sequential([\n",
    "    keras.layers.Masking(mask_value=1, input_shape=(None, n_feat)),\n",
    "    keras.layers.LSTM(64, activation='tanh', return_sequences=True),\n",
    "    #keras.layers.TimeDistributed(keras.layers.Dense(128, activation='sigmoid')),\n",
    "    keras.layers.TimeDistributed(keras.layers.Dense(1, activation='sigmoid')),\n",
    "    keras.layers.GlobalAveragePooling1D()\n",
    "])"
   ]
  },
  {
   "cell_type": "code",
   "execution_count": 19,
   "metadata": {},
   "outputs": [],
   "source": [
    "optimizer = keras.optimizers.Adam(learning_rate=0.001)"
   ]
  },
  {
   "cell_type": "code",
   "execution_count": 20,
   "metadata": {},
   "outputs": [],
   "source": [
    "model.compile(optimizer=optimizer, loss='binary_crossentropy', metrics=['accuracy'])"
   ]
  },
  {
   "cell_type": "code",
   "execution_count": 21,
   "metadata": {},
   "outputs": [
    {
     "name": "stdout",
     "output_type": "stream",
     "text": [
      "Model: \"sequential\"\n",
      "_________________________________________________________________\n",
      "Layer (type)                 Output Shape              Param #   \n",
      "=================================================================\n",
      "masking (Masking)            (None, None, 128)         0         \n",
      "_________________________________________________________________\n",
      "lstm (LSTM)                  (None, None, 64)          49408     \n",
      "_________________________________________________________________\n",
      "time_distributed (TimeDistri (None, None, 1)           65        \n",
      "_________________________________________________________________\n",
      "global_average_pooling1d (Gl (None, 1)                 0         \n",
      "=================================================================\n",
      "Total params: 49,473\n",
      "Trainable params: 49,473\n",
      "Non-trainable params: 0\n",
      "_________________________________________________________________\n"
     ]
    }
   ],
   "source": [
    "model.summary()"
   ]
  },
  {
   "cell_type": "code",
   "execution_count": 24,
   "metadata": {
    "scrolled": true
   },
   "outputs": [
    {
     "name": "stdout",
     "output_type": "stream",
     "text": [
      "Epoch 1/6\n",
      "313/313 [==============================] - 89s 284ms/step - loss: 0.1837 - accuracy: 0.9537\n",
      "Epoch 2/6\n",
      "313/313 [==============================] - 93s 297ms/step - loss: 0.1763 - accuracy: 0.9567\n",
      "Epoch 3/6\n",
      "313/313 [==============================] - 89s 284ms/step - loss: 0.1682 - accuracy: 0.9586\n",
      "Epoch 4/6\n",
      "313/313 [==============================] - 89s 283ms/step - loss: 0.1704 - accuracy: 0.9563\n",
      "Epoch 5/6\n",
      "313/313 [==============================] - 88s 282ms/step - loss: 0.1620 - accuracy: 0.9585\n",
      "Epoch 6/6\n",
      "313/313 [==============================] - 89s 285ms/step - loss: 0.1619 - accuracy: 0.9589\n"
     ]
    },
    {
     "data": {
      "text/plain": [
       "<tensorflow.python.keras.callbacks.History at 0x218886209a0>"
      ]
     },
     "execution_count": 24,
     "metadata": {},
     "output_type": "execute_result"
    }
   ],
   "source": [
    "model.fit(x=X_train_padded_1, y=a_df.target.values[:FIRST_PART_SIZE], epochs=6)"
   ]
  },
  {
   "cell_type": "markdown",
   "metadata": {},
   "source": [
    "#### Accuracy"
   ]
  },
  {
   "cell_type": "code",
   "execution_count": 25,
   "metadata": {},
   "outputs": [
    {
     "data": {
      "text/plain": [
       "<tf.Tensor: shape=(), dtype=float32, numpy=0.9636687>"
      ]
     },
     "execution_count": 25,
     "metadata": {},
     "output_type": "execute_result"
    }
   ],
   "source": [
    "metric = keras.metrics.Accuracy()\n",
    "metric.update_state(model.predict_classes(X_train_padded_2), a_df.target.values[FIRST_PART_SIZE:])\n",
    "metric.result()"
   ]
  },
  {
   "cell_type": "code",
   "execution_count": 29,
   "metadata": {},
   "outputs": [
    {
     "name": "stdin",
     "output_type": "stream",
     "text": [
      "Введите да, если хотите выполнить ячейку:  да\n"
     ]
    }
   ],
   "source": [
    "input_gate()\n",
    "\n",
    "model.save('spbu_models/lstm.h5', save_format=\"h5\")"
   ]
  },
  {
   "cell_type": "code",
   "execution_count": null,
   "metadata": {},
   "outputs": [],
   "source": []
  },
  {
   "cell_type": "markdown",
   "metadata": {},
   "source": [
    "# Разбиение на окна"
   ]
  },
  {
   "cell_type": "code",
   "execution_count": 16,
   "metadata": {},
   "outputs": [],
   "source": [
    "def split_into_windows2(a, w_size=32, step=32):\n",
    "    return np.array([a[i : i + w_size] for i in range(0, a.shape[0] - w_size + 1, step)])"
   ]
  },
  {
   "cell_type": "code",
   "execution_count": 17,
   "metadata": {},
   "outputs": [],
   "source": [
    "X_splited = [split_into_windows2(elem, 32, 32) for elem in X_train]"
   ]
  },
  {
   "cell_type": "markdown",
   "metadata": {},
   "source": [
    "#### Определяем target для каждого окна"
   ]
  },
  {
   "cell_type": "code",
   "execution_count": 18,
   "metadata": {},
   "outputs": [],
   "source": [
    "y_for_windows = list()\n",
    "for i, elem in enumerate(X_splited):\n",
    "    y_for_windows.extend([a_df.target[i]] * len(elem))\n",
    "y_for_windows = np.array(y_for_windows).reshape(-1, 1)"
   ]
  },
  {
   "cell_type": "code",
   "execution_count": 19,
   "metadata": {},
   "outputs": [
    {
     "data": {
      "text/plain": [
       "1"
      ]
     },
     "execution_count": 19,
     "metadata": {},
     "output_type": "execute_result"
    }
   ],
   "source": [
    "np.min([elem.shape[0] for elem in X_splited])"
   ]
  },
  {
   "cell_type": "markdown",
   "metadata": {},
   "source": [
    "#### train-test split"
   ]
  },
  {
   "cell_type": "code",
   "execution_count": 20,
   "metadata": {},
   "outputs": [],
   "source": [
    "X_splited_1 = X_splited[:FIRST_PART_SIZE]\n",
    "X_splited_2 = X_splited[FIRST_PART_SIZE:]\n",
    "y_for_windows_1 = y_for_windows[:np.sum(np.fromiter((elem.shape[0] for elem in X_splited_1), np.int32))]\n",
    "y_for_windows_2 = y_for_windows[y_for_windows_1.shape[0]:]"
   ]
  },
  {
   "cell_type": "markdown",
   "metadata": {},
   "source": [
    "# CNN2"
   ]
  },
  {
   "cell_type": "code",
   "execution_count": 37,
   "metadata": {},
   "outputs": [],
   "source": [
    "model = keras.models.Sequential([\n",
    "    keras.layers.Reshape((32, 128, 1), input_shape=(32, 128)),\n",
    "    keras.layers.Conv2D(64, 4, (4, 4), input_shape=(32, 128, 1), activation='selu'),\n",
    "    keras.layers.MaxPooling2D(pool_size=(2, 2), strides=(1, 1), padding='same'),\n",
    "    keras.layers.Conv2D(64, 4, (4, 4), activation='selu'),\n",
    "    keras.layers.Flatten(),\n",
    "    keras.layers.Dense(1, activation='sigmoid')\n",
    "])"
   ]
  },
  {
   "cell_type": "code",
   "execution_count": 38,
   "metadata": {},
   "outputs": [],
   "source": [
    "optimizer = keras.optimizers.Adam(learning_rate=0.000001)"
   ]
  },
  {
   "cell_type": "code",
   "execution_count": 39,
   "metadata": {},
   "outputs": [],
   "source": [
    "model.compile(optimizer=optimizer, loss='binary_crossentropy', metrics=['accuracy'])"
   ]
  },
  {
   "cell_type": "code",
   "execution_count": 40,
   "metadata": {},
   "outputs": [
    {
     "name": "stdout",
     "output_type": "stream",
     "text": [
      "Model: \"sequential_1\"\n",
      "_________________________________________________________________\n",
      "Layer (type)                 Output Shape              Param #   \n",
      "=================================================================\n",
      "reshape_1 (Reshape)          (None, 32, 128, 1)        0         \n",
      "_________________________________________________________________\n",
      "conv2d_2 (Conv2D)            (None, 8, 32, 64)         1088      \n",
      "_________________________________________________________________\n",
      "max_pooling2d_1 (MaxPooling2 (None, 8, 32, 64)         0         \n",
      "_________________________________________________________________\n",
      "conv2d_3 (Conv2D)            (None, 2, 8, 64)          65600     \n",
      "_________________________________________________________________\n",
      "flatten_1 (Flatten)          (None, 1024)              0         \n",
      "_________________________________________________________________\n",
      "dense_1 (Dense)              (None, 1)                 1025      \n",
      "=================================================================\n",
      "Total params: 67,713\n",
      "Trainable params: 67,713\n",
      "Non-trainable params: 0\n",
      "_________________________________________________________________\n"
     ]
    }
   ],
   "source": [
    "model.summary()"
   ]
  },
  {
   "cell_type": "code",
   "execution_count": 77,
   "metadata": {},
   "outputs": [
    {
     "name": "stdout",
     "output_type": "stream",
     "text": [
      "Epoch 1/20\n",
      "1154/1154 [==============================] - 23s 20ms/step - loss: 0.1983 - accuracy: 0.9317\n",
      "Epoch 2/20\n",
      "1154/1154 [==============================] - 23s 20ms/step - loss: 0.1981 - accuracy: 0.9308\n",
      "Epoch 3/20\n",
      "1154/1154 [==============================] - 23s 20ms/step - loss: 0.1980 - accuracy: 0.9320\n",
      "Epoch 4/20\n",
      "1154/1154 [==============================] - 23s 20ms/step - loss: 0.1977 - accuracy: 0.9315\n",
      "Epoch 5/20\n",
      "1154/1154 [==============================] - 24s 21ms/step - loss: 0.1975 - accuracy: 0.9319\n",
      "Epoch 6/20\n",
      "1154/1154 [==============================] - 23s 20ms/step - loss: 0.1975 - accuracy: 0.9318\n",
      "Epoch 7/20\n",
      "1154/1154 [==============================] - 23s 20ms/step - loss: 0.1971 - accuracy: 0.9320\n",
      "Epoch 8/20\n",
      "1154/1154 [==============================] - 22s 19ms/step - loss: 0.1972 - accuracy: 0.9318\n",
      "Epoch 9/20\n",
      "1154/1154 [==============================] - 22s 19ms/step - loss: 0.1968 - accuracy: 0.9324\n",
      "Epoch 10/20\n",
      "1154/1154 [==============================] - 22s 19ms/step - loss: 0.1967 - accuracy: 0.9322\n",
      "Epoch 11/20\n",
      "1154/1154 [==============================] - 22s 19ms/step - loss: 0.1965 - accuracy: 0.9323\n",
      "Epoch 12/20\n",
      "1154/1154 [==============================] - 23s 20ms/step - loss: 0.1962 - accuracy: 0.93240s - loss: 0.1959 \n",
      "Epoch 13/20\n",
      "1154/1154 [==============================] - 23s 20ms/step - loss: 0.1962 - accuracy: 0.9321\n",
      "Epoch 14/20\n",
      "1154/1154 [==============================] - 23s 20ms/step - loss: 0.1959 - accuracy: 0.9322\n",
      "Epoch 15/20\n",
      "1154/1154 [==============================] - 23s 20ms/step - loss: 0.1958 - accuracy: 0.9326\n",
      "Epoch 16/20\n",
      "1154/1154 [==============================] - 23s 20ms/step - loss: 0.1956 - accuracy: 0.9325\n",
      "Epoch 17/20\n",
      "1154/1154 [==============================] - 23s 20ms/step - loss: 0.1954 - accuracy: 0.9323\n",
      "Epoch 18/20\n",
      "1154/1154 [==============================] - 23s 20ms/step - loss: 0.1952 - accuracy: 0.9331\n",
      "Epoch 19/20\n",
      "1154/1154 [==============================] - 23s 20ms/step - loss: 0.1953 - accuracy: 0.93270s - loss: 0.1953 - accu\n",
      "Epoch 20/20\n",
      "1154/1154 [==============================] - 23s 20ms/step - loss: 0.1949 - accuracy: 0.9332\n"
     ]
    },
    {
     "data": {
      "text/plain": [
       "<tensorflow.python.keras.callbacks.History at 0x1224ce68700>"
      ]
     },
     "execution_count": 77,
     "metadata": {},
     "output_type": "execute_result"
    }
   ],
   "source": [
    "model.fit(x=np.vstack(X_splited_1), y=y_for_windows_1, epochs=20)"
   ]
  },
  {
   "cell_type": "markdown",
   "metadata": {},
   "source": [
    "#### Accuracy"
   ]
  },
  {
   "cell_type": "code",
   "execution_count": 79,
   "metadata": {},
   "outputs": [
    {
     "data": {
      "text/plain": [
       "<tf.Tensor: shape=(), dtype=float32, numpy=0.9669715>"
      ]
     },
     "execution_count": 79,
     "metadata": {},
     "output_type": "execute_result"
    }
   ],
   "source": [
    "y_pred = model.predict(np.vstack(X_splited_2))\n",
    "\n",
    "y_pred2 = np.empty(len(X_splited_2))\n",
    "b = 0\n",
    "for i in range(len(X_splited_2)):\n",
    "    y_pred2[i] = np.mean(y_pred[b : b + X_splited_2[i].shape[0]])\n",
    "    b += X_splited_2[i].shape[0]\n",
    "\n",
    "accuracy = keras.metrics.Accuracy()\n",
    "accuracy.update_state(a_df.target.values[FIRST_PART_SIZE:],\n",
    "                      (y_pred2.reshape(-1, 1) > 0.5).astype(int))\n",
    "accuracy.result()"
   ]
  },
  {
   "cell_type": "code",
   "execution_count": 80,
   "metadata": {},
   "outputs": [
    {
     "name": "stdin",
     "output_type": "stream",
     "text": [
      "Введите да, если хотите выполнить ячейку:  да\n"
     ]
    },
    {
     "name": "stdout",
     "output_type": "stream",
     "text": [
      "INFO:tensorflow:Assets written to: spbu_models/cnn\\assets\n"
     ]
    }
   ],
   "source": [
    "input_gate()\n",
    "\n",
    "model.save('spbu_models/cnn')"
   ]
  },
  {
   "cell_type": "code",
   "execution_count": null,
   "metadata": {},
   "outputs": [],
   "source": []
  },
  {
   "cell_type": "code",
   "execution_count": null,
   "metadata": {},
   "outputs": [],
   "source": []
  },
  {
   "cell_type": "code",
   "execution_count": null,
   "metadata": {},
   "outputs": [],
   "source": []
  },
  {
   "cell_type": "code",
   "execution_count": 61,
   "metadata": {},
   "outputs": [
    {
     "name": "stderr",
     "output_type": "stream",
     "text": [
      "100%|██████████████████████████████████████████████████████████████████████████████| 3413/3413 [00:50<00:00, 68.07it/s]\n"
     ]
    }
   ],
   "source": [
    "X_test = transpose_all(load_all_specs(TEST_SPEC_PATH, test_names))"
   ]
  },
  {
   "cell_type": "code",
   "execution_count": 62,
   "metadata": {},
   "outputs": [],
   "source": [
    "X_test_splited = [split_into_windows2(elem, 32, 32) for elem in X_test]"
   ]
  },
  {
   "cell_type": "code",
   "execution_count": 69,
   "metadata": {},
   "outputs": [],
   "source": [
    "X_test_splited[964] = X_test_splited[0]\n",
    "X_test_splited[3147] = X_test_splited[0]"
   ]
  },
  {
   "cell_type": "code",
   "execution_count": 70,
   "metadata": {},
   "outputs": [],
   "source": [
    "y_pred_test = model.predict(np.vstack(X_test_splited))"
   ]
  },
  {
   "cell_type": "code",
   "execution_count": 71,
   "metadata": {},
   "outputs": [],
   "source": [
    "y_pred_test2 = np.empty(len(test_names))\n",
    "b = 0\n",
    "for i in range(len(X_test_splited)):\n",
    "    y_pred_test2[i] = np.mean(y_pred_test[b : b + X_test_splited[i].shape[0]])\n",
    "    b += X_test_splited[i].shape[0]"
   ]
  },
  {
   "cell_type": "code",
   "execution_count": 76,
   "metadata": {},
   "outputs": [
    {
     "data": {
      "text/plain": [
       "0.9910028576850891"
      ]
     },
     "execution_count": 76,
     "metadata": {},
     "output_type": "execute_result"
    }
   ],
   "source": [
    "y_pred_test2[0]"
   ]
  },
  {
   "cell_type": "code",
   "execution_count": 77,
   "metadata": {},
   "outputs": [],
   "source": [
    "y_test_classes = (y_pred_test2 > 0.5).astype('int32')"
   ]
  },
  {
   "cell_type": "code",
   "execution_count": 80,
   "metadata": {},
   "outputs": [
    {
     "data": {
      "text/plain": [
       "0.499112606048584"
      ]
     },
     "execution_count": 80,
     "metadata": {},
     "output_type": "execute_result"
    }
   ],
   "source": [
    "np.max(np.abs(y_test_classes - y_pred_test2))"
   ]
  },
  {
   "cell_type": "code",
   "execution_count": 75,
   "metadata": {},
   "outputs": [
    {
     "data": {
      "text/plain": [
       "((3413,), 3413)"
      ]
     },
     "execution_count": 75,
     "metadata": {},
     "output_type": "execute_result"
    }
   ],
   "source": [
    "y_pred_test2.shape, len(test_names)"
   ]
  },
  {
   "cell_type": "code",
   "execution_count": null,
   "metadata": {},
   "outputs": [],
   "source": [
    "te"
   ]
  },
  {
   "cell_type": "code",
   "execution_count": 86,
   "metadata": {},
   "outputs": [],
   "source": [
    "with open('targets.tsv', 'w') as f:\n",
    "    for i in range(len(test_names)):\n",
    "        f.write(test_names[i] + '\\t' + str(y_test_classes[i]) + '\\n')"
   ]
  },
  {
   "cell_type": "code",
   "execution_count": 87,
   "metadata": {},
   "outputs": [
    {
     "data": {
      "text/plain": [
       "'00100026dbdffcd01cde6ee9b9a9d273'"
      ]
     },
     "execution_count": 87,
     "metadata": {},
     "output_type": "execute_result"
    }
   ],
   "source": [
    "test_names[0]"
   ]
  },
  {
   "cell_type": "code",
   "execution_count": null,
   "metadata": {},
   "outputs": [],
   "source": [
    "# 1 - женщ\n",
    "# 0 - муж"
   ]
  },
  {
   "cell_type": "code",
   "execution_count": 104,
   "metadata": {},
   "outputs": [
    {
     "data": {
      "text/plain": [
       "array([0.99100286, 0.96601558, 0.84717518, ..., 0.47930107, 0.02227749,\n",
       "       0.45166531])"
      ]
     },
     "execution_count": 104,
     "metadata": {},
     "output_type": "execute_result"
    }
   ],
   "source": [
    "y_pred_test2"
   ]
  },
  {
   "cell_type": "markdown",
   "metadata": {},
   "source": [
    "# LSTM2"
   ]
  },
  {
   "cell_type": "code",
   "execution_count": 47,
   "metadata": {},
   "outputs": [],
   "source": [
    "rnn = keras.models.Sequential([\n",
    "    keras.layers.Bidirectional(\n",
    "        keras.layers.LSTM(64), input_shape=(32, 128)\n",
    "    ),\n",
    "    keras.layers.Dense(1, activation='sigmoid')\n",
    "])"
   ]
  },
  {
   "cell_type": "code",
   "execution_count": 52,
   "metadata": {},
   "outputs": [],
   "source": [
    "optimizer = keras.optimizers.Adam(learning_rate=0.000001)"
   ]
  },
  {
   "cell_type": "code",
   "execution_count": 53,
   "metadata": {},
   "outputs": [],
   "source": [
    "rnn.compile(optimizer=optimizer, loss='binary_crossentropy', metrics=['accuracy'])"
   ]
  },
  {
   "cell_type": "code",
   "execution_count": 54,
   "metadata": {},
   "outputs": [
    {
     "name": "stdout",
     "output_type": "stream",
     "text": [
      "Model: \"sequential_8\"\n",
      "_________________________________________________________________\n",
      "Layer (type)                 Output Shape              Param #   \n",
      "=================================================================\n",
      "bidirectional_1 (Bidirection (None, 128)               98816     \n",
      "_________________________________________________________________\n",
      "dense_6 (Dense)              (None, 1)                 129       \n",
      "=================================================================\n",
      "Total params: 98,945\n",
      "Trainable params: 98,945\n",
      "Non-trainable params: 0\n",
      "_________________________________________________________________\n"
     ]
    }
   ],
   "source": [
    "rnn.summary()"
   ]
  },
  {
   "cell_type": "code",
   "execution_count": 55,
   "metadata": {},
   "outputs": [
    {
     "name": "stdout",
     "output_type": "stream",
     "text": [
      "Epoch 1/3\n",
      "1610/1610 [==============================] - 52s 30ms/step - loss: 0.2957 - accuracy: 0.8899\n",
      "Epoch 2/3\n",
      "1610/1610 [==============================] - 56s 35ms/step - loss: 0.3002 - accuracy: 0.8870\n",
      "Epoch 3/3\n",
      "1610/1610 [==============================] - 53s 33ms/step - loss: 0.2911 - accuracy: 0.8885\n"
     ]
    },
    {
     "data": {
      "text/plain": [
       "<tensorflow.python.keras.callbacks.History at 0x7f8cba32ac70>"
      ]
     },
     "execution_count": 55,
     "metadata": {},
     "output_type": "execute_result"
    }
   ],
   "source": [
    "rnn.fit(x=np.vstack(X_splited), y=y_for_windows, epochs=3)"
   ]
  },
  {
   "cell_type": "code",
   "execution_count": 62,
   "metadata": {},
   "outputs": [],
   "source": [
    "y_pred = rnn.predict(np.vstack(X_splited))"
   ]
  },
  {
   "cell_type": "code",
   "execution_count": 63,
   "metadata": {},
   "outputs": [],
   "source": [
    "y_pred2 = np.empty(len(a_df))\n",
    "b = 0\n",
    "for i in range(len(X_splited)):\n",
    "    y_pred2[i] = np.mean(y_pred[b : b + X_splited[i].shape[0]])\n",
    "    b += X_splited[i].shape[0]"
   ]
  },
  {
   "cell_type": "code",
   "execution_count": 64,
   "metadata": {},
   "outputs": [],
   "source": [
    "accuracy = keras.metrics.Accuracy()"
   ]
  },
  {
   "cell_type": "code",
   "execution_count": 65,
   "metadata": {},
   "outputs": [
    {
     "data": {
      "text/plain": [
       "<tf.Variable 'UnreadVariable' shape=() dtype=float32, numpy=13936.0>"
      ]
     },
     "execution_count": 65,
     "metadata": {},
     "output_type": "execute_result"
    }
   ],
   "source": [
    "accuracy.update_state(a_df[['target']].values,\n",
    "                      (y_pred2.reshape(-1, 1) > 0.5).astype(int))"
   ]
  },
  {
   "cell_type": "code",
   "execution_count": 66,
   "metadata": {},
   "outputs": [
    {
     "data": {
      "text/plain": [
       "<tf.Tensor: shape=(), dtype=float32, numpy=0.9449627>"
      ]
     },
     "execution_count": 66,
     "metadata": {},
     "output_type": "execute_result"
    }
   ],
   "source": [
    "accuracy.result()"
   ]
  },
  {
   "cell_type": "code",
   "execution_count": null,
   "metadata": {},
   "outputs": [],
   "source": []
  },
  {
   "cell_type": "markdown",
   "metadata": {},
   "source": [
    "# AutoEncoder"
   ]
  },
  {
   "cell_type": "code",
   "execution_count": 75,
   "metadata": {},
   "outputs": [],
   "source": [
    "e = keras.models.Sequential([\n",
    "    keras.layers.InputLayer(input_shape=(32, 128, 1)),\n",
    "    keras.layers.Conv2D(filters=16, kernel_size=(3, 3), activation='relu', padding='same'),\n",
    "    keras.layers.MaxPooling2D(pool_size=(2, 2), padding='same'),\n",
    "    keras.layers.Conv2D(filters=8, kernel_size=(3, 3), activation='relu', padding='same'),\n",
    "    keras.layers.MaxPooling2D(pool_size=(2, 2), padding='same'),\n",
    "    keras.layers.Conv2D(filters=8, kernel_size=(3, 3), activation='relu', padding='same'),\n",
    "    keras.layers.MaxPooling2D(pool_size=(2, 2), padding='same')\n",
    "])"
   ]
  },
  {
   "cell_type": "code",
   "execution_count": 77,
   "metadata": {},
   "outputs": [
    {
     "name": "stdout",
     "output_type": "stream",
     "text": [
      "Model: \"sequential_21\"\n",
      "_________________________________________________________________\n",
      "Layer (type)                 Output Shape              Param #   \n",
      "=================================================================\n",
      "conv2d_26 (Conv2D)           (None, 32, 128, 16)       160       \n",
      "_________________________________________________________________\n",
      "max_pooling2d_9 (MaxPooling2 (None, 16, 64, 16)        0         \n",
      "_________________________________________________________________\n",
      "conv2d_27 (Conv2D)           (None, 16, 64, 8)         1160      \n",
      "_________________________________________________________________\n",
      "max_pooling2d_10 (MaxPooling (None, 8, 32, 8)          0         \n",
      "_________________________________________________________________\n",
      "conv2d_28 (Conv2D)           (None, 8, 32, 8)          584       \n",
      "_________________________________________________________________\n",
      "max_pooling2d_11 (MaxPooling (None, 4, 16, 8)          0         \n",
      "=================================================================\n",
      "Total params: 1,904\n",
      "Trainable params: 1,904\n",
      "Non-trainable params: 0\n",
      "_________________________________________________________________\n"
     ]
    }
   ],
   "source": [
    "e.summary()"
   ]
  },
  {
   "cell_type": "code",
   "execution_count": 85,
   "metadata": {},
   "outputs": [],
   "source": [
    "d = keras.models.Sequential([\n",
    "    keras.layers.InputLayer(input_shape=(4, 16, 8)),\n",
    "    keras.layers.Conv2D(8, (3, 3), activation='relu', padding='same'),\n",
    "    keras.layers.UpSampling2D((2, 2)),\n",
    "    keras.layers.Conv2D(8, (3, 3), activation='relu', padding='same'),\n",
    "    keras.layers.UpSampling2D((2, 2)),\n",
    "    keras.layers.Conv2D(16, (3, 3), activation='relu', padding='same'),\n",
    "    keras.layers.UpSampling2D((2, 2)),\n",
    "    keras.layers.Conv2D(1, (3, 3), padding='same'),\n",
    "    keras.layers.Reshape((32, 128))\n",
    "])"
   ]
  },
  {
   "cell_type": "code",
   "execution_count": 86,
   "metadata": {},
   "outputs": [
    {
     "name": "stdout",
     "output_type": "stream",
     "text": [
      "Model: \"sequential_23\"\n",
      "_________________________________________________________________\n",
      "Layer (type)                 Output Shape              Param #   \n",
      "=================================================================\n",
      "conv2d_33 (Conv2D)           (None, 4, 16, 8)          584       \n",
      "_________________________________________________________________\n",
      "up_sampling2d_15 (UpSampling (None, 8, 32, 8)          0         \n",
      "_________________________________________________________________\n",
      "conv2d_34 (Conv2D)           (None, 8, 32, 8)          584       \n",
      "_________________________________________________________________\n",
      "up_sampling2d_16 (UpSampling (None, 16, 64, 8)         0         \n",
      "_________________________________________________________________\n",
      "conv2d_35 (Conv2D)           (None, 16, 64, 16)        1168      \n",
      "_________________________________________________________________\n",
      "up_sampling2d_17 (UpSampling (None, 32, 128, 16)       0         \n",
      "_________________________________________________________________\n",
      "conv2d_36 (Conv2D)           (None, 32, 128, 1)        145       \n",
      "_________________________________________________________________\n",
      "reshape_2 (Reshape)          (None, 32, 128)           0         \n",
      "=================================================================\n",
      "Total params: 2,481\n",
      "Trainable params: 2,481\n",
      "Non-trainable params: 0\n",
      "_________________________________________________________________\n"
     ]
    }
   ],
   "source": [
    "d.summary()"
   ]
  },
  {
   "cell_type": "code",
   "execution_count": 87,
   "metadata": {},
   "outputs": [],
   "source": [
    "ae = keras.models.Sequential(\n",
    "    e,\n",
    "    d\n",
    ")"
   ]
  },
  {
   "cell_type": "code",
   "execution_count": 88,
   "metadata": {},
   "outputs": [],
   "source": [
    "ae_optimizer = keras.optimizers.Adam(learning_rate=0.001)"
   ]
  },
  {
   "cell_type": "code",
   "execution_count": 89,
   "metadata": {},
   "outputs": [],
   "source": [
    "ae.compile(loss='mse')"
   ]
  },
  {
   "cell_type": "code",
   "execution_count": null,
   "metadata": {},
   "outputs": [],
   "source": [
    "ae.fit(x=np.vstack(X_splited), y=np.vstack(X_splited))"
   ]
  },
  {
   "cell_type": "code",
   "execution_count": null,
   "metadata": {},
   "outputs": [],
   "source": []
  },
  {
   "cell_type": "code",
   "execution_count": null,
   "metadata": {},
   "outputs": [],
   "source": []
  },
  {
   "cell_type": "code",
   "execution_count": null,
   "metadata": {},
   "outputs": [],
   "source": []
  },
  {
   "cell_type": "markdown",
   "metadata": {},
   "source": [
    "# CNN(плохой вариант)"
   ]
  },
  {
   "cell_type": "code",
   "execution_count": 11,
   "metadata": {},
   "outputs": [],
   "source": [
    "model = keras.models.Sequential([\n",
    "    keras.layers.Reshape((32, 128, 1), input_shape=(32, 128)),\n",
    "    keras.layers.Conv2D(64, 4, (4, 4), input_shape=(32, 128, 1)),\n",
    "    keras.layers.Conv2D(64, 4, (4, 4)),\n",
    "    keras.layers.Flatten(),\n",
    "    keras.layers.Dense(1, activation='sigmoid')\n",
    "])"
   ]
  },
  {
   "cell_type": "code",
   "execution_count": 12,
   "metadata": {},
   "outputs": [
    {
     "name": "stdout",
     "output_type": "stream",
     "text": [
      "Model: \"sequential\"\n",
      "_________________________________________________________________\n",
      "Layer (type)                 Output Shape              Param #   \n",
      "=================================================================\n",
      "reshape (Reshape)            (None, 32, 128, 1)        0         \n",
      "_________________________________________________________________\n",
      "conv2d (Conv2D)              (None, 8, 32, 64)         1088      \n",
      "_________________________________________________________________\n",
      "conv2d_1 (Conv2D)            (None, 2, 8, 64)          65600     \n",
      "_________________________________________________________________\n",
      "flatten (Flatten)            (None, 1024)              0         \n",
      "_________________________________________________________________\n",
      "dense (Dense)                (None, 1)                 1025      \n",
      "=================================================================\n",
      "Total params: 67,713\n",
      "Trainable params: 67,713\n",
      "Non-trainable params: 0\n",
      "_________________________________________________________________\n"
     ]
    }
   ],
   "source": [
    "model.summary()"
   ]
  },
  {
   "cell_type": "code",
   "execution_count": 13,
   "metadata": {},
   "outputs": [],
   "source": [
    "loss = keras.losses.get('binary_crossentropy')"
   ]
  },
  {
   "cell_type": "code",
   "execution_count": 14,
   "metadata": {},
   "outputs": [],
   "source": [
    "optimizer = keras.optimizers.RMSprop()"
   ]
  },
  {
   "cell_type": "code",
   "execution_count": 15,
   "metadata": {},
   "outputs": [],
   "source": [
    "metric = keras.metrics.Accuracy()"
   ]
  },
  {
   "cell_type": "code",
   "execution_count": 71,
   "metadata": {
    "scrolled": true
   },
   "outputs": [
    {
     "data": {
      "text/plain": [
       "<tf.Variable 'UnreadVariable' shape=() dtype=float32, numpy=1.0>"
      ]
     },
     "execution_count": 71,
     "metadata": {},
     "output_type": "execute_result"
    }
   ],
   "source": [
    "metric.update_state([[1]], [[1]])"
   ]
  },
  {
   "cell_type": "code",
   "execution_count": 72,
   "metadata": {},
   "outputs": [
    {
     "data": {
      "text/plain": [
       "<tf.Tensor: shape=(), dtype=float32, numpy=1.0>"
      ]
     },
     "execution_count": 72,
     "metadata": {},
     "output_type": "execute_result"
    }
   ],
   "source": [
    "metric.result()"
   ]
  },
  {
   "cell_type": "code",
   "execution_count": 73,
   "metadata": {},
   "outputs": [],
   "source": [
    "metric.reset_state()"
   ]
  },
  {
   "cell_type": "markdown",
   "metadata": {},
   "source": [
    "#### Train loop"
   ]
  },
  {
   "cell_type": "code",
   "execution_count": 28,
   "metadata": {},
   "outputs": [
    {
     "name": "stderr",
     "output_type": "stream",
     "text": [
      "  0%|          | 1/871 [00:00<02:42,  5.37it/s]"
     ]
    },
    {
     "name": "stdout",
     "output_type": "stream",
     "text": [
      "epoch =  0\n"
     ]
    },
    {
     "name": "stderr",
     "output_type": "stream",
     "text": [
      "100%|██████████| 871/871 [01:54<00:00,  7.61it/s]\n"
     ]
    }
   ],
   "source": [
    "batch_size = 16\n",
    "n_epochs = 1\n",
    "\n",
    "for epoch in range(n_epochs):\n",
    "    print('epoch = ', epoch)\n",
    "    for i in tqdm(range(len(X_splited) // batch_size)):\n",
    "        batch_X = X_splited[i*batch_size : (i+1)*batch_size]\n",
    "        batch_y = a_df[['target']].values[i*batch_size : (i+1)*batch_size]\n",
    "        with tf.GradientTape() as tape:\n",
    "            tl = tf.Variable(0.0)\n",
    "            for sample, sample_y, s_i in zip(batch_X, batch_y, range(batch_size)):\n",
    "                ans = model(sample, training=True)\n",
    "                l = tf.reduce_mean(\n",
    "                        loss(tf.reduce_mean(ans, keepdims=True),\n",
    "                             sample_y.astype('float32').reshape(-1, 1)))\n",
    "                tl = tl + l / batch_size\n",
    "                \n",
    "        grad = tape.gradient(tl, model.trainable_variables)\n",
    "        optimizer.apply_gradients(zip(grad, model.trainable_variables))"
   ]
  },
  {
   "cell_type": "code",
   "execution_count": 31,
   "metadata": {},
   "outputs": [
    {
     "data": {
      "text/plain": [
       "<tf.Tensor: shape=(4, 1), dtype=float32, numpy=\n",
       "array([[1.],\n",
       "       [1.],\n",
       "       [1.],\n",
       "       [1.]], dtype=float32)>"
      ]
     },
     "execution_count": 31,
     "metadata": {},
     "output_type": "execute_result"
    }
   ],
   "source": [
    "model(X_splited[2])"
   ]
  },
  {
   "cell_type": "code",
   "execution_count": 97,
   "metadata": {},
   "outputs": [
    {
     "data": {
      "text/plain": [
       "<tf.Tensor: shape=(), dtype=float32, numpy=7.1542025>"
      ]
     },
     "execution_count": 97,
     "metadata": {},
     "output_type": "execute_result"
    }
   ],
   "source": [
    "tl"
   ]
  },
  {
   "cell_type": "code",
   "execution_count": 101,
   "metadata": {},
   "outputs": [
    {
     "ename": "AttributeError",
     "evalue": "'list' object has no attribute 'shape'",
     "output_type": "error",
     "traceback": [
      "\u001b[0;31m---------------------------------------------------------------------------\u001b[0m",
      "\u001b[0;31mAttributeError\u001b[0m                            Traceback (most recent call last)",
      "\u001b[0;32m<ipython-input-101-199bc4d60d06>\u001b[0m in \u001b[0;36m<module>\u001b[0;34m\u001b[0m\n\u001b[0;32m----> 1\u001b[0;31m \u001b[0mgrad\u001b[0m\u001b[0;34m.\u001b[0m\u001b[0mshape\u001b[0m\u001b[0;34m\u001b[0m\u001b[0;34m\u001b[0m\u001b[0m\n\u001b[0m",
      "\u001b[0;31mAttributeError\u001b[0m: 'list' object has no attribute 'shape'"
     ]
    }
   ],
   "source": [
    "grad.shape"
   ]
  },
  {
   "cell_type": "code",
   "execution_count": 28,
   "metadata": {},
   "outputs": [
    {
     "data": {
      "text/plain": [
       "<tf.Variable 'Variable:0' shape=(16,) dtype=float64, numpy=array([0., 0., 0., 0., 0., 0., 0., 0., 0., 0., 0., 0., 0., 0., 0., 0.])>"
      ]
     },
     "execution_count": 28,
     "metadata": {},
     "output_type": "execute_result"
    }
   ],
   "source": [
    "tf.Variable(np.zeros(batch_size))"
   ]
  },
  {
   "cell_type": "code",
   "execution_count": 25,
   "metadata": {},
   "outputs": [
    {
     "data": {
      "text/plain": [
       "<tf.Variable 'Variable:0' shape=() dtype=float32, numpy=132.68092>"
      ]
     },
     "execution_count": 25,
     "metadata": {},
     "output_type": "execute_result"
    }
   ],
   "source": [
    "tl"
   ]
  },
  {
   "cell_type": "code",
   "execution_count": 20,
   "metadata": {},
   "outputs": [
    {
     "data": {
      "text/plain": [
       "<tf.Tensor: shape=(3, 1), dtype=float32, numpy=\n",
       "array([[0.99992967],\n",
       "       [0.9999339 ],\n",
       "       [0.9996873 ]], dtype=float32)>"
      ]
     },
     "execution_count": 20,
     "metadata": {},
     "output_type": "execute_result"
    }
   ],
   "source": [
    "model(X_splited[0])"
   ]
  },
  {
   "cell_type": "code",
   "execution_count": 26,
   "metadata": {},
   "outputs": [
    {
     "data": {
      "text/plain": [
       "<tf.Tensor: shape=(1, 1), dtype=float32, numpy=array([[0.9998503]], dtype=float32)>"
      ]
     },
     "execution_count": 26,
     "metadata": {},
     "output_type": "execute_result"
    }
   ],
   "source": [
    "tf.reduce_mean(model(X_splited[0]), keepdims=True)"
   ]
  },
  {
   "cell_type": "code",
   "execution_count": 29,
   "metadata": {},
   "outputs": [
    {
     "data": {
      "text/plain": [
       "<tf.Tensor: shape=(1,), dtype=float64, numpy=array([10.84200769])>"
      ]
     },
     "execution_count": 29,
     "metadata": {},
     "output_type": "execute_result"
    }
   ],
   "source": [
    "loss(tf.reduce_mean(model(X_splited[0]), keepdims=True), np.array([[0.0]]))"
   ]
  },
  {
   "cell_type": "code",
   "execution_count": 36,
   "metadata": {},
   "outputs": [
    {
     "data": {
      "text/plain": [
       "array([[1],\n",
       "       [1],\n",
       "       [1],\n",
       "       [0],\n",
       "       [0],\n",
       "       [0],\n",
       "       [0],\n",
       "       [0],\n",
       "       [1],\n",
       "       [0],\n",
       "       [1],\n",
       "       [1],\n",
       "       [1],\n",
       "       [0],\n",
       "       [0],\n",
       "       [0]])"
      ]
     },
     "execution_count": 36,
     "metadata": {},
     "output_type": "execute_result"
    }
   ],
   "source": [
    "a_df[['target']].values[0*16 : (0+1)*16]"
   ]
  }
 ],
 "metadata": {
  "kernelspec": {
   "display_name": "Python 3",
   "language": "python",
   "name": "python3"
  },
  "language_info": {
   "codemirror_mode": {
    "name": "ipython",
    "version": 3
   },
   "file_extension": ".py",
   "mimetype": "text/x-python",
   "name": "python",
   "nbconvert_exporter": "python",
   "pygments_lexer": "ipython3",
   "version": "3.8.4"
  }
 },
 "nbformat": 4,
 "nbformat_minor": 5
}
